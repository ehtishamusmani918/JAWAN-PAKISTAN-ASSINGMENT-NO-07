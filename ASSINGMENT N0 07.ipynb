{
 "cells": [
  {
   "cell_type": "markdown",
   "id": "d4cfd57d-f795-4ee0-87a0-dc24a5a66ba9",
   "metadata": {},
   "source": [
    "## ASSINGMENT NO 07"
   ]
  },
  {
   "cell_type": "code",
   "execution_count": 7,
   "id": "b1ff9821-8656-4e56-b38d-b1c2cdea4c39",
   "metadata": {},
   "outputs": [],
   "source": [
    "class Employee:\n",
    "    def __init__(self, name, number, address, salary, post, year_of_joining, education, year_of_experience):\n",
    "        self.name = name\n",
    "        self.number = number\n",
    "        self.address = address\n",
    "        self.salary = salary\n",
    "        self.post = post\n",
    "        self.year_of_joining = year_of_joining\n",
    "        self.education = education\n",
    "        self.year_of_experience = year_of_experience\n",
    "\n",
    "    def describe_employee(self):\n",
    "        print(f\"Employee Name: {self.name}\")\n",
    "        print(f\"Employee Number: {self.number}\")\n",
    "        print(f\"Employee Address: {self.address}\")\n",
    "        print(f\"Employee Salary: {self.salary}\")\n",
    "        print(f\"Employee Post: {self.post}\")\n",
    "        print(f\"Year of Joining: {self.year_of_joining}\")\n",
    "        print(f\"Education: {self.education}\")\n",
    "        print(f\"Years of Experience: {self.year_of_experience}\")\n",
    "\n",
    "    def update_year_of_experience(self):\n",
    "        self.year_of_experience += 1\n",
    "        print(f\"Updated Years of Experience for {self.name}: {self.year_of_experience}\")\n",
    "\n",
    "    def increase_salary(self, increment):\n",
    "        self.salary += increment\n",
    "        print(f\"New Salary for {self.name}: {self.salary}\")\n"
   ]
  },
  {
   "cell_type": "code",
   "execution_count": 8,
   "id": "d9189628-d63a-4f1e-b60e-33538d640873",
   "metadata": {},
   "outputs": [],
   "source": [
    "# Create instance employee101\n",
    "employee101 = Employee(\"Ahmed Ali\", 101, \"Karachi\", 50000, \"Manager\", 2015, \"MBA\", 8)\n"
   ]
  },
  {
   "cell_type": "code",
   "execution_count": 9,
   "id": "20704985-5274-4b8a-be66-16fb46abeae0",
   "metadata": {},
   "outputs": [
    {
     "name": "stdout",
     "output_type": "stream",
     "text": [
      "Ahmed Ali\n",
      "101\n",
      "50000\n",
      "Manager\n"
     ]
    }
   ],
   "source": [
    "# Print four attributes individually\n",
    "print(employee101.name)\n",
    "print(employee101.number)\n",
    "print(employee101.salary)\n",
    "print(employee101.post)"
   ]
  },
  {
   "cell_type": "code",
   "execution_count": 10,
   "id": "083223d3-b2db-47c8-8695-0189bd6b2e14",
   "metadata": {},
   "outputs": [
    {
     "name": "stdout",
     "output_type": "stream",
     "text": [
      "Employee Name: Ahmed Ali\n",
      "Employee Number: 101\n",
      "Employee Address: Karachi\n",
      "Employee Salary: 50000\n",
      "Employee Post: Manager\n",
      "Year of Joining: 2015\n",
      "Education: MBA\n",
      "Years of Experience: 8\n",
      "New Salary for Ahmed Ali: 55000\n",
      "Updated Years of Experience for Ahmed Ali: 9\n"
     ]
    }
   ],
   "source": [
    "# Call methods\n",
    "employee101.describe_employee()\n",
    "employee101.increase_salary(5000)\n",
    "employee101.update_year_of_experience()"
   ]
  },
  {
   "cell_type": "code",
   "execution_count": 11,
   "id": "44e8cc76-cf62-47c1-ae63-1603bfd1ffaa",
   "metadata": {},
   "outputs": [],
   "source": [
    "# Create 10 different instances\n",
    "employees = [\n",
    "    Employee(\"Sara Khan\", 102, \"Lahore\", 45000, \"Assistant\", 2018, \"BSc\", 5),\n",
    "    Employee(\"Zain Malik\", 103, \"Islamabad\", 47000, \"Senior Assistant\", 2017, \"BA\", 6),\n",
    "    Employee(\"Bilal Hussain\", 104, \"Peshawar\", 60000, \"Director\", 2010, \"MBA\", 14),\n",
    "    Employee(\"Ayesha Siddiqui\", 105, \"Quetta\", 55000, \"HR Manager\", 2016, \"MHRM\", 7),\n",
    "    Employee(\"Usman Tariq\", 106, \"Karachi\", 52000, \"Team Lead\", 2014, \"BBA\", 9),\n",
    "    Employee(\"Hina Farooq\", 107, \"Faisalabad\", 49000, \"Supervisor\", 2019, \"BSc\", 4),\n",
    "    Employee(\"Rizwan Ahmed\", 108, \"Multan\", 65000, \"CEO\", 2008, \"MBA\", 16),\n",
    "    Employee(\"Mariam Yousuf\", 109, \"Sialkot\", 48000, \"Developer\", 2020, \"BS IT\", 3),\n",
    "    Employee(\"Fahad Raza\", 110, \"Hyderabad\", 53000, \"Operations Manager\", 2013, \"BCom\", 10),\n",
    "    Employee(\"Nida Qureshi\", 111, \"Rawalpindi\", 62000, \"Finance Head\", 2012, \"MBA Finance\", 12),\n",
    "]\n"
   ]
  },
  {
   "cell_type": "code",
   "execution_count": 12,
   "id": "ea5115f6-c03a-44b1-9bc6-b42ddaa21e71",
   "metadata": {},
   "outputs": [
    {
     "name": "stdout",
     "output_type": "stream",
     "text": [
      "Employee Name: Sara Khan\n",
      "Employee Number: 102\n",
      "Employee Address: Lahore\n",
      "Employee Salary: 45000\n",
      "Employee Post: Assistant\n",
      "Year of Joining: 2018\n",
      "Education: BSc\n",
      "Years of Experience: 5\n",
      "\n",
      "Employee Name: Zain Malik\n",
      "Employee Number: 103\n",
      "Employee Address: Islamabad\n",
      "Employee Salary: 47000\n",
      "Employee Post: Senior Assistant\n",
      "Year of Joining: 2017\n",
      "Education: BA\n",
      "Years of Experience: 6\n",
      "\n",
      "Employee Name: Bilal Hussain\n",
      "Employee Number: 104\n",
      "Employee Address: Peshawar\n",
      "Employee Salary: 60000\n",
      "Employee Post: Director\n",
      "Year of Joining: 2010\n",
      "Education: MBA\n",
      "Years of Experience: 14\n",
      "\n",
      "Employee Name: Ayesha Siddiqui\n",
      "Employee Number: 105\n",
      "Employee Address: Quetta\n",
      "Employee Salary: 55000\n",
      "Employee Post: HR Manager\n",
      "Year of Joining: 2016\n",
      "Education: MHRM\n",
      "Years of Experience: 7\n",
      "\n",
      "Employee Name: Usman Tariq\n",
      "Employee Number: 106\n",
      "Employee Address: Karachi\n",
      "Employee Salary: 52000\n",
      "Employee Post: Team Lead\n",
      "Year of Joining: 2014\n",
      "Education: BBA\n",
      "Years of Experience: 9\n",
      "\n",
      "Employee Name: Hina Farooq\n",
      "Employee Number: 107\n",
      "Employee Address: Faisalabad\n",
      "Employee Salary: 49000\n",
      "Employee Post: Supervisor\n",
      "Year of Joining: 2019\n",
      "Education: BSc\n",
      "Years of Experience: 4\n",
      "\n",
      "Employee Name: Rizwan Ahmed\n",
      "Employee Number: 108\n",
      "Employee Address: Multan\n",
      "Employee Salary: 65000\n",
      "Employee Post: CEO\n",
      "Year of Joining: 2008\n",
      "Education: MBA\n",
      "Years of Experience: 16\n",
      "\n",
      "Employee Name: Mariam Yousuf\n",
      "Employee Number: 109\n",
      "Employee Address: Sialkot\n",
      "Employee Salary: 48000\n",
      "Employee Post: Developer\n",
      "Year of Joining: 2020\n",
      "Education: BS IT\n",
      "Years of Experience: 3\n",
      "\n",
      "Employee Name: Fahad Raza\n",
      "Employee Number: 110\n",
      "Employee Address: Hyderabad\n",
      "Employee Salary: 53000\n",
      "Employee Post: Operations Manager\n",
      "Year of Joining: 2013\n",
      "Education: BCom\n",
      "Years of Experience: 10\n",
      "\n",
      "Employee Name: Nida Qureshi\n",
      "Employee Number: 111\n",
      "Employee Address: Rawalpindi\n",
      "Employee Salary: 62000\n",
      "Employee Post: Finance Head\n",
      "Year of Joining: 2012\n",
      "Education: MBA Finance\n",
      "Years of Experience: 12\n",
      "\n"
     ]
    }
   ],
   "source": [
    "# Call describe_employee() for each instance\n",
    "for employee in employees:\n",
    "    employee.describe_employee()\n",
    "    print()"
   ]
  },
  {
   "cell_type": "code",
   "execution_count": 13,
   "id": "77ecdb6f-f7a3-45b7-b380-cc91f33839bd",
   "metadata": {},
   "outputs": [
    {
     "name": "stdout",
     "output_type": "stream",
     "text": [
      "New Salary for Sara Khan: 48000\n",
      "Updated Years of Experience for Zain Malik: 7\n",
      "New Salary for Bilal Hussain: 64000\n",
      "Updated Years of Experience for Ayesha Siddiqui: 8\n"
     ]
    }
   ],
   "source": [
    "# Perform some updates\n",
    "employees[0].increase_salary(3000)\n",
    "employees[1].update_year_of_experience()\n",
    "employees[2].increase_salary(4000)\n",
    "employees[3].update_year_of_experience()"
   ]
  },
  {
   "cell_type": "markdown",
   "id": "969674c0-e30a-45d5-97c6-4e3254dcd821",
   "metadata": {},
   "source": [
    "### WITHOUT USING CLASSES (NON-OOP APPROACH)"
   ]
  },
  {
   "cell_type": "code",
   "execution_count": 14,
   "id": "bd44697b-aa36-41a9-8e77-a2ee8292ee66",
   "metadata": {},
   "outputs": [],
   "source": [
    "def describe_employee(employee):\n",
    "    print(f\"Employee Name: {employee['name']}\")\n",
    "    print(f\"Employee Number: {employee['number']}\")\n",
    "    print(f\"Employee Address: {employee['address']}\")\n",
    "    print(f\"Employee Salary: {employee['salary']}\")\n",
    "    print(f\"Employee Post: {employee['post']}\")\n",
    "    print(f\"Year of Joining: {employee['year_of_joining']}\")\n",
    "    print(f\"Education: {employee['education']}\")\n",
    "    print(f\"Years of Experience: {employee['year_of_experience']}\")\n",
    "\n",
    "def update_year_of_experience(employee):\n",
    "    employee['year_of_experience'] += 1\n",
    "    print(f\"Updated Years of Experience for {employee['name']}: {employee['year_of_experience']}\")\n",
    "\n",
    "def increase_salary(employee, increment):\n",
    "    employee['salary'] += increment\n",
    "    print(f\"New Salary for {employee['name']}: {employee['salary']}\")\n"
   ]
  },
  {
   "cell_type": "code",
   "execution_count": 15,
   "id": "b46d558f-57b0-47fc-9e28-867532301db6",
   "metadata": {},
   "outputs": [],
   "source": [
    "# Create employee101 as a dictionary\n",
    "employee101 = {\n",
    "    \"name\": \"Ahmed Ali\",\n",
    "    \"number\": 101,\n",
    "    \"address\": \"Karachi\",\n",
    "    \"salary\": 50000,\n",
    "    \"post\": \"Manager\",\n",
    "    \"year_of_joining\": 2015,\n",
    "    \"education\": \"MBA\",\n",
    "    \"year_of_experience\": 8\n",
    "}\n"
   ]
  },
  {
   "cell_type": "code",
   "execution_count": 16,
   "id": "9ef53d86-5c36-4562-99bf-f455b9358bc7",
   "metadata": {},
   "outputs": [
    {
     "name": "stdout",
     "output_type": "stream",
     "text": [
      "Ahmed Ali\n",
      "101\n",
      "50000\n",
      "Manager\n"
     ]
    }
   ],
   "source": [
    "# Print four attributes individually\n",
    "print(employee101[\"name\"])\n",
    "print(employee101[\"number\"])\n",
    "print(employee101[\"salary\"])\n",
    "print(employee101[\"post\"])"
   ]
  },
  {
   "cell_type": "code",
   "execution_count": 17,
   "id": "e8ffa276-a905-4bfd-b249-c6f959c700c7",
   "metadata": {},
   "outputs": [
    {
     "name": "stdout",
     "output_type": "stream",
     "text": [
      "Employee Name: Ahmed Ali\n",
      "Employee Number: 101\n",
      "Employee Address: Karachi\n",
      "Employee Salary: 50000\n",
      "Employee Post: Manager\n",
      "Year of Joining: 2015\n",
      "Education: MBA\n",
      "Years of Experience: 8\n",
      "New Salary for Ahmed Ali: 55000\n",
      "Updated Years of Experience for Ahmed Ali: 9\n"
     ]
    }
   ],
   "source": [
    "# Call functions\n",
    "describe_employee(employee101)\n",
    "increase_salary(employee101, 5000)\n",
    "update_year_of_experience(employee101)"
   ]
  },
  {
   "cell_type": "code",
   "execution_count": 18,
   "id": "b16f0e5b-91f4-4029-9edf-99566060a621",
   "metadata": {},
   "outputs": [],
   "source": [
    "# Create 10 different employee dictionaries\n",
    "employees = [\n",
    "    {\"name\": \"Sara Khan\", \"number\": 102, \"address\": \"Lahore\", \"salary\": 45000, \"post\": \"Assistant\", \"year_of_joining\": 2018, \"education\": \"BSc\", \"year_of_experience\": 5},\n",
    "    {\"name\": \"Zain Malik\", \"number\": 103, \"address\": \"Islamabad\", \"salary\": 47000, \"post\": \"Senior Assistant\", \"year_of_joining\": 2017, \"education\": \"BA\", \"year_of_experience\": 6},\n",
    "    {\"name\": \"Bilal Hussain\", \"number\": 104, \"address\": \"Peshawar\", \"salary\": 60000, \"post\": \"Director\", \"year_of_joining\": 2010, \"education\": \"MBA\", \"year_of_experience\": 14},\n",
    "    {\"name\": \"Ayesha Siddiqui\", \"number\": 105, \"address\": \"Quetta\", \"salary\": 55000, \"post\": \"HR Manager\", \"year_of_joining\": 2016, \"education\": \"MHRM\", \"year_of_experience\": 7},\n",
    "    {\"name\": \"Usman Tariq\", \"number\": 106, \"address\": \"Karachi\", \"salary\": 52000, \"post\": \"Team Lead\", \"year_of_joining\": 2014, \"education\": \"BBA\", \"year_of_experience\": 9},\n",
    "    {\"name\": \"Hina Farooq\", \"number\": 107, \"address\": \"Faisalabad\", \"salary\": 49000, \"post\": \"Supervisor\", \"year_of_joining\": 2019, \"education\": \"BSc\", \"year_of_experience\": 4},\n",
    "    {\"name\": \"Rizwan Ahmed\", \"number\": 108, \"address\": \"Multan\", \"salary\": 65000, \"post\": \"CEO\", \"year_of_joining\": 2008, \"education\": \"MBA\", \"year_of_experience\": 16},\n",
    "    {\"name\": \"Mariam Yousuf\", \"number\": 109, \"address\": \"Sialkot\", \"salary\": 48000, \"post\": \"Developer\", \"year_of_joining\": 2020, \"education\": \"BS IT\", \"year_of_experience\": 3},\n",
    "    {\"name\": \"Fahad Raza\", \"number\": 110, \"address\": \"Hyderabad\", \"salary\": 53000, \"post\": \"Operations Manager\", \"year_of_joining\": 2013, \"education\": \"BCom\", \"year_of_experience\": 10},\n",
    "    {\"name\": \"Nida Qureshi\", \"number\": 111, \"address\": \"Rawalpindi\", \"salary\": 62000, \"post\": \"Finance Head\", \"year_of_joining\": 2012, \"education\": \"MBA Finance\", \"year_of_experience\": 12},\n",
    "]"
   ]
  },
  {
   "cell_type": "code",
   "execution_count": 19,
   "id": "5d062843-2b66-491b-87ba-ae913c7c3570",
   "metadata": {},
   "outputs": [
    {
     "name": "stdout",
     "output_type": "stream",
     "text": [
      "Employee Name: Sara Khan\n",
      "Employee Number: 102\n",
      "Employee Address: Lahore\n",
      "Employee Salary: 45000\n",
      "Employee Post: Assistant\n",
      "Year of Joining: 2018\n",
      "Education: BSc\n",
      "Years of Experience: 5\n",
      "\n",
      "Employee Name: Zain Malik\n",
      "Employee Number: 103\n",
      "Employee Address: Islamabad\n",
      "Employee Salary: 47000\n",
      "Employee Post: Senior Assistant\n",
      "Year of Joining: 2017\n",
      "Education: BA\n",
      "Years of Experience: 6\n",
      "\n",
      "Employee Name: Bilal Hussain\n",
      "Employee Number: 104\n",
      "Employee Address: Peshawar\n",
      "Employee Salary: 60000\n",
      "Employee Post: Director\n",
      "Year of Joining: 2010\n",
      "Education: MBA\n",
      "Years of Experience: 14\n",
      "\n",
      "Employee Name: Ayesha Siddiqui\n",
      "Employee Number: 105\n",
      "Employee Address: Quetta\n",
      "Employee Salary: 55000\n",
      "Employee Post: HR Manager\n",
      "Year of Joining: 2016\n",
      "Education: MHRM\n",
      "Years of Experience: 7\n",
      "\n",
      "Employee Name: Usman Tariq\n",
      "Employee Number: 106\n",
      "Employee Address: Karachi\n",
      "Employee Salary: 52000\n",
      "Employee Post: Team Lead\n",
      "Year of Joining: 2014\n",
      "Education: BBA\n",
      "Years of Experience: 9\n",
      "\n",
      "Employee Name: Hina Farooq\n",
      "Employee Number: 107\n",
      "Employee Address: Faisalabad\n",
      "Employee Salary: 49000\n",
      "Employee Post: Supervisor\n",
      "Year of Joining: 2019\n",
      "Education: BSc\n",
      "Years of Experience: 4\n",
      "\n",
      "Employee Name: Rizwan Ahmed\n",
      "Employee Number: 108\n",
      "Employee Address: Multan\n",
      "Employee Salary: 65000\n",
      "Employee Post: CEO\n",
      "Year of Joining: 2008\n",
      "Education: MBA\n",
      "Years of Experience: 16\n",
      "\n",
      "Employee Name: Mariam Yousuf\n",
      "Employee Number: 109\n",
      "Employee Address: Sialkot\n",
      "Employee Salary: 48000\n",
      "Employee Post: Developer\n",
      "Year of Joining: 2020\n",
      "Education: BS IT\n",
      "Years of Experience: 3\n",
      "\n",
      "Employee Name: Fahad Raza\n",
      "Employee Number: 110\n",
      "Employee Address: Hyderabad\n",
      "Employee Salary: 53000\n",
      "Employee Post: Operations Manager\n",
      "Year of Joining: 2013\n",
      "Education: BCom\n",
      "Years of Experience: 10\n",
      "\n",
      "Employee Name: Nida Qureshi\n",
      "Employee Number: 111\n",
      "Employee Address: Rawalpindi\n",
      "Employee Salary: 62000\n",
      "Employee Post: Finance Head\n",
      "Year of Joining: 2012\n",
      "Education: MBA Finance\n",
      "Years of Experience: 12\n",
      "\n"
     ]
    }
   ],
   "source": [
    "# Call describe_employee() for each employee\n",
    "for employee in employees:\n",
    "    describe_employee(employee)\n",
    "    print()"
   ]
  },
  {
   "cell_type": "code",
   "execution_count": 20,
   "id": "8b561980-363a-47f5-b37f-7f7a08773e6e",
   "metadata": {},
   "outputs": [
    {
     "name": "stdout",
     "output_type": "stream",
     "text": [
      "New Salary for Sara Khan: 48000\n",
      "Updated Years of Experience for Zain Malik: 7\n",
      "New Salary for Bilal Hussain: 64000\n",
      "Updated Years of Experience for Ayesha Siddiqui: 8\n"
     ]
    }
   ],
   "source": [
    "# Perform some updates\n",
    "increase_salary(employees[0], 3000)\n",
    "update_year_of_experience(employees[1])\n",
    "increase_salary(employees[2], 4000)\n",
    "update_year_of_experience(employees[3])"
   ]
  },
  {
   "cell_type": "code",
   "execution_count": null,
   "id": "84ca8dff-6626-4f9b-afb7-dc6c0ead838b",
   "metadata": {},
   "outputs": [],
   "source": []
  }
 ],
 "metadata": {
  "kernelspec": {
   "display_name": "Python 3 (ipykernel)",
   "language": "python",
   "name": "python3"
  },
  "language_info": {
   "codemirror_mode": {
    "name": "ipython",
    "version": 3
   },
   "file_extension": ".py",
   "mimetype": "text/x-python",
   "name": "python",
   "nbconvert_exporter": "python",
   "pygments_lexer": "ipython3",
   "version": "3.12.4"
  }
 },
 "nbformat": 4,
 "nbformat_minor": 5
}
